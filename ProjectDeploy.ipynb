{
 "cells": [
  {
   "cell_type": "markdown",
   "source": [
    "**Analytics & ML**"
   ],
   "metadata": {
    "collapsed": false
   }
  },
  {
   "cell_type": "code",
   "execution_count": 1,
   "outputs": [],
   "source": [
    "import pandas as pd"
   ],
   "metadata": {
    "collapsed": false
   }
  },
  {
   "cell_type": "code",
   "execution_count": 2,
   "outputs": [
    {
     "data": {
      "text/plain": "   ID  Age  Gender     BMI  Children Smoker Region  Premium\n0   1   19  female  27.900         0    yes  south    16885\n1   2   18    male  33.770         1     no   east     1726\n2   3   28    male  33.000         3     no   east     4449\n3   4   33    male  22.705         0     no   west    21984\n4   5   32    male  28.880         0     no   west     3867",
      "text/html": "<div>\n<style scoped>\n    .dataframe tbody tr th:only-of-type {\n        vertical-align: middle;\n    }\n\n    .dataframe tbody tr th {\n        vertical-align: top;\n    }\n\n    .dataframe thead th {\n        text-align: right;\n    }\n</style>\n<table border=\"1\" class=\"dataframe\">\n  <thead>\n    <tr style=\"text-align: right;\">\n      <th></th>\n      <th>ID</th>\n      <th>Age</th>\n      <th>Gender</th>\n      <th>BMI</th>\n      <th>Children</th>\n      <th>Smoker</th>\n      <th>Region</th>\n      <th>Premium</th>\n    </tr>\n  </thead>\n  <tbody>\n    <tr>\n      <th>0</th>\n      <td>1</td>\n      <td>19</td>\n      <td>female</td>\n      <td>27.900</td>\n      <td>0</td>\n      <td>yes</td>\n      <td>south</td>\n      <td>16885</td>\n    </tr>\n    <tr>\n      <th>1</th>\n      <td>2</td>\n      <td>18</td>\n      <td>male</td>\n      <td>33.770</td>\n      <td>1</td>\n      <td>no</td>\n      <td>east</td>\n      <td>1726</td>\n    </tr>\n    <tr>\n      <th>2</th>\n      <td>3</td>\n      <td>28</td>\n      <td>male</td>\n      <td>33.000</td>\n      <td>3</td>\n      <td>no</td>\n      <td>east</td>\n      <td>4449</td>\n    </tr>\n    <tr>\n      <th>3</th>\n      <td>4</td>\n      <td>33</td>\n      <td>male</td>\n      <td>22.705</td>\n      <td>0</td>\n      <td>no</td>\n      <td>west</td>\n      <td>21984</td>\n    </tr>\n    <tr>\n      <th>4</th>\n      <td>5</td>\n      <td>32</td>\n      <td>male</td>\n      <td>28.880</td>\n      <td>0</td>\n      <td>no</td>\n      <td>west</td>\n      <td>3867</td>\n    </tr>\n  </tbody>\n</table>\n</div>"
     },
     "execution_count": 2,
     "metadata": {},
     "output_type": "execute_result"
    }
   ],
   "source": [
    "df = pd.read_csv('https://github.com/YBI-Foundation/Dataset/raw/main/Insurance%20Premium.csv')\n",
    "df.head()"
   ],
   "metadata": {
    "collapsed": false
   }
  },
  {
   "cell_type": "code",
   "execution_count": 3,
   "outputs": [
    {
     "data": {
      "text/plain": "(1338,)"
     },
     "execution_count": 3,
     "metadata": {},
     "output_type": "execute_result"
    }
   ],
   "source": [
    "Y = df['Premium']\n",
    "Y.shape"
   ],
   "metadata": {
    "collapsed": false
   }
  },
  {
   "cell_type": "code",
   "execution_count": 4,
   "outputs": [
    {
     "data": {
      "text/plain": "(1338, 2)"
     },
     "execution_count": 4,
     "metadata": {},
     "output_type": "execute_result"
    }
   ],
   "source": [
    "X = df[['Age','BMI']]\n",
    "X.shape"
   ],
   "metadata": {
    "collapsed": false
   }
  },
  {
   "cell_type": "markdown",
   "source": [
    "**Splitting data**"
   ],
   "metadata": {
    "collapsed": false
   }
  },
  {
   "cell_type": "code",
   "execution_count": 5,
   "outputs": [],
   "source": [
    "from sklearn.model_selection import train_test_split"
   ],
   "metadata": {
    "collapsed": false
   }
  },
  {
   "cell_type": "markdown",
   "source": [
    "    Sklearn has modules which have certain functions, & we have used its functions we don't write it as numpy as np\n"
   ],
   "metadata": {
    "collapsed": false
   }
  },
  {
   "cell_type": "code",
   "execution_count": 6,
   "outputs": [
    {
     "data": {
      "text/plain": "((1003, 2), (335, 2), (1003,), (335,))"
     },
     "execution_count": 6,
     "metadata": {},
     "output_type": "execute_result"
    }
   ],
   "source": [
    "X_train,X_test, Y_train, Y_test = train_test_split(X,Y,train_size=0.75)\n",
    "X_train.shape, X_test.shape, Y_train.shape, Y_test.shape"
   ],
   "metadata": {
    "collapsed": false
   }
  },
  {
   "cell_type": "markdown",
   "source": [
    "    We are taking random so that data should be mix and not go with a certain row order"
   ],
   "metadata": {
    "collapsed": false
   }
  },
  {
   "cell_type": "markdown",
   "source": [
    "**Creating model**"
   ],
   "metadata": {
    "collapsed": false
   }
  },
  {
   "cell_type": "code",
   "execution_count": 7,
   "outputs": [],
   "source": [
    "from sklearn.linear_model import LinearRegression\n"
   ],
   "metadata": {
    "collapsed": false
   }
  },
  {
   "cell_type": "code",
   "execution_count": 8,
   "outputs": [],
   "source": [
    "model = LinearRegression()"
   ],
   "metadata": {
    "collapsed": false
   }
  },
  {
   "cell_type": "code",
   "execution_count": 9,
   "outputs": [
    {
     "data": {
      "text/plain": "LinearRegression()",
      "text/html": "<style>#sk-container-id-1 {color: black;background-color: white;}#sk-container-id-1 pre{padding: 0;}#sk-container-id-1 div.sk-toggleable {background-color: white;}#sk-container-id-1 label.sk-toggleable__label {cursor: pointer;display: block;width: 100%;margin-bottom: 0;padding: 0.3em;box-sizing: border-box;text-align: center;}#sk-container-id-1 label.sk-toggleable__label-arrow:before {content: \"▸\";float: left;margin-right: 0.25em;color: #696969;}#sk-container-id-1 label.sk-toggleable__label-arrow:hover:before {color: black;}#sk-container-id-1 div.sk-estimator:hover label.sk-toggleable__label-arrow:before {color: black;}#sk-container-id-1 div.sk-toggleable__content {max-height: 0;max-width: 0;overflow: hidden;text-align: left;background-color: #f0f8ff;}#sk-container-id-1 div.sk-toggleable__content pre {margin: 0.2em;color: black;border-radius: 0.25em;background-color: #f0f8ff;}#sk-container-id-1 input.sk-toggleable__control:checked~div.sk-toggleable__content {max-height: 200px;max-width: 100%;overflow: auto;}#sk-container-id-1 input.sk-toggleable__control:checked~label.sk-toggleable__label-arrow:before {content: \"▾\";}#sk-container-id-1 div.sk-estimator input.sk-toggleable__control:checked~label.sk-toggleable__label {background-color: #d4ebff;}#sk-container-id-1 div.sk-label input.sk-toggleable__control:checked~label.sk-toggleable__label {background-color: #d4ebff;}#sk-container-id-1 input.sk-hidden--visually {border: 0;clip: rect(1px 1px 1px 1px);clip: rect(1px, 1px, 1px, 1px);height: 1px;margin: -1px;overflow: hidden;padding: 0;position: absolute;width: 1px;}#sk-container-id-1 div.sk-estimator {font-family: monospace;background-color: #f0f8ff;border: 1px dotted black;border-radius: 0.25em;box-sizing: border-box;margin-bottom: 0.5em;}#sk-container-id-1 div.sk-estimator:hover {background-color: #d4ebff;}#sk-container-id-1 div.sk-parallel-item::after {content: \"\";width: 100%;border-bottom: 1px solid gray;flex-grow: 1;}#sk-container-id-1 div.sk-label:hover label.sk-toggleable__label {background-color: #d4ebff;}#sk-container-id-1 div.sk-serial::before {content: \"\";position: absolute;border-left: 1px solid gray;box-sizing: border-box;top: 0;bottom: 0;left: 50%;z-index: 0;}#sk-container-id-1 div.sk-serial {display: flex;flex-direction: column;align-items: center;background-color: white;padding-right: 0.2em;padding-left: 0.2em;position: relative;}#sk-container-id-1 div.sk-item {position: relative;z-index: 1;}#sk-container-id-1 div.sk-parallel {display: flex;align-items: stretch;justify-content: center;background-color: white;position: relative;}#sk-container-id-1 div.sk-item::before, #sk-container-id-1 div.sk-parallel-item::before {content: \"\";position: absolute;border-left: 1px solid gray;box-sizing: border-box;top: 0;bottom: 0;left: 50%;z-index: -1;}#sk-container-id-1 div.sk-parallel-item {display: flex;flex-direction: column;z-index: 1;position: relative;background-color: white;}#sk-container-id-1 div.sk-parallel-item:first-child::after {align-self: flex-end;width: 50%;}#sk-container-id-1 div.sk-parallel-item:last-child::after {align-self: flex-start;width: 50%;}#sk-container-id-1 div.sk-parallel-item:only-child::after {width: 0;}#sk-container-id-1 div.sk-dashed-wrapped {border: 1px dashed gray;margin: 0 0.4em 0.5em 0.4em;box-sizing: border-box;padding-bottom: 0.4em;background-color: white;}#sk-container-id-1 div.sk-label label {font-family: monospace;font-weight: bold;display: inline-block;line-height: 1.2em;}#sk-container-id-1 div.sk-label-container {text-align: center;}#sk-container-id-1 div.sk-container {/* jupyter's `normalize.less` sets `[hidden] { display: none; }` but bootstrap.min.css set `[hidden] { display: none !important; }` so we also need the `!important` here to be able to override the default hidden behavior on the sphinx rendered scikit-learn.org. See: https://github.com/scikit-learn/scikit-learn/issues/21755 */display: inline-block !important;position: relative;}#sk-container-id-1 div.sk-text-repr-fallback {display: none;}</style><div id=\"sk-container-id-1\" class=\"sk-top-container\"><div class=\"sk-text-repr-fallback\"><pre>LinearRegression()</pre><b>In a Jupyter environment, please rerun this cell to show the HTML representation or trust the notebook. <br />On GitHub, the HTML representation is unable to render, please try loading this page with nbviewer.org.</b></div><div class=\"sk-container\" hidden><div class=\"sk-item\"><div class=\"sk-estimator sk-toggleable\"><input class=\"sk-toggleable__control sk-hidden--visually\" id=\"sk-estimator-id-1\" type=\"checkbox\" checked><label for=\"sk-estimator-id-1\" class=\"sk-toggleable__label sk-toggleable__label-arrow\">LinearRegression</label><div class=\"sk-toggleable__content\"><pre>LinearRegression()</pre></div></div></div></div></div>"
     },
     "execution_count": 9,
     "metadata": {},
     "output_type": "execute_result"
    }
   ],
   "source": [
    "model.fit(X_train, Y_train)"
   ],
   "metadata": {
    "collapsed": false
   }
  },
  {
   "cell_type": "code",
   "execution_count": 15,
   "outputs": [],
   "source": [
    "import pickle\n",
    "pickle.dump(model, open('model.pkl','wb'))"
   ],
   "metadata": {
    "collapsed": false
   }
  },
  {
   "cell_type": "code",
   "execution_count": 16,
   "outputs": [
    {
     "name": "stdout",
     "output_type": "stream",
     "text": [
      "[7482.57106528]\n"
     ]
    },
    {
     "name": "stderr",
     "output_type": "stream",
     "text": [
      "C:\\Users\\soham\\AppData\\Local\\Programs\\Python\\Python310\\lib\\site-packages\\sklearn\\base.py:450: UserWarning: X does not have valid feature names, but LinearRegression was fitted with feature names\n",
      "  warnings.warn(\n"
     ]
    }
   ],
   "source": [
    "reg_model = pickle.load(open('model.pkl', 'rb'))\n",
    "print(reg_model.predict([[18,30]]))"
   ],
   "metadata": {
    "collapsed": false
   }
  },
  {
   "cell_type": "code",
   "execution_count": 10,
   "outputs": [
    {
     "data": {
      "text/plain": "array([ 4568.94042923, 15394.3263268 ,  8144.32690428, 15447.22250979,\n       10168.15682159, 10037.39619312, 10599.18583185, 12005.18579368,\n       19024.73593057, 14255.67353876, 12411.70880916,  9937.61496629,\n       14209.43573606, 12654.73487866, 17769.5637271 , 14175.6820646 ,\n       18999.21266481, 20685.96871592, 11525.4220881 ,  9494.84155265,\n       13828.62095978,  8807.74733837, 19662.81798938, 14793.04966943,\n        8477.23928279, 19962.53161676, 14623.07939954, 15181.90979501,\n       16424.69018805,  8853.24533025, 17609.85832191,  8385.6883787 ,\n       11596.4434287 ,  8952.28674626, 12813.3306091 , 10929.97134759,\n        9505.01376472, 12430.66634726, 12813.3306091 , 14338.80922962,\n        6093.49418254,  9364.26589762, 14085.70326887, 12752.29667304,\n       15084.53289111,  8339.08071208,  8056.75251444, 17516.82779619,\n        9538.2125988 ,  9207.70454323, 16543.98379035, 19569.87995038,\n        8258.90426448, 11792.67669221,  9749.14950896,  8302.83023096,\n       10644.59133701, 14719.34654574, 16719.68757333, 14703.16327746,\n       11696.5021157 ,  7521.41084277, 21526.66495837, 18793.73172462,\n       13092.97710659, 14398.17857061, 18335.699744  , 11654.5181215 ,\n        7840.17449496,  6460.25263627, 18682.94590522, 14648.51017858,\n        9844.49195385,  7643.57120161,  5655.06706412, 13961.97080167,\n        9662.2224432 , 18626.72069799, 19279.59880721,  8512.65746637,\n       14032.99214227, 15819.80688038, 11463.55585451,  8591.63166954,\n        7644.49598587, 12713.64195194,  8904.47683521, 11396.32605471,\n       10132.83104178, 19915.55392029,  9534.421058  , 16424.59778429,\n        4346.99884356, 16192.57630736, 10970.29074671, 15591.76191769,\n       11015.51127843,  7473.60093172,  7948.64839519,  5842.97760112,\n       14150.43625901, 15790.76953398, 17581.4682996 , 10021.58287173,\n        7343.21025014, 13802.35788321,  6261.24501998, 10588.4586165 ,\n       10803.00225992, 12867.98379093,  6047.7187305 , 19025.38325466,\n       10834.6289027 , 13407.85664831, 21131.33150889,  9767.6446964 ,\n       15816.47777318, 15671.75339184,  9582.60091593, 15267.17234864,\n       14165.87971647,  9488.09076858, 17884.69592467, 12068.16178498,\n        5520.60746452, 12671.65787479, 10470.36725862, 17466.79845269,\n        7962.51974429, 18391.83246452, 16777.76226612, 15719.28592568,\n       12436.2148869 , 15554.95651625, 15927.26359258, 21629.31294175,\n       19992.49374741, 11114.27523428, 19704.61701013, 14051.30235627,\n       14508.50203935, 10977.41131175, 20992.52553113,  9524.6186269 ,\n       13767.21707684,  8267.41204738, 18266.62045865, 20566.02778952,\n        9309.05787841, 14541.88568096, 16089.83583726, 15642.06872135,\n       17636.95369602, 16054.32524992, 12981.72877064, 15354.561848  ,\n        7895.2899445 , 10962.80015183, 10835.73857745, 16993.04555445,\n       16786.91737312,  9150.73960813, 13597.894214  , 16979.45166551,\n       18061.13951846, 10149.66163415, 13537.04508547, 16282.74007654,\n       13599.46623939, 10559.97619043, 19830.75380026, 18316.64980214,\n       13517.90273984, 15572.34202894, 11641.109206  , 10641.16982605,\n       10885.30548734,  7093.52596626, 12877.50876186, 13359.3070094 ,\n       11032.71173473, 17142.30137036, 12908.48808055, 12908.67305399,\n       12597.95483405,  6208.53389339, 21408.01868017,  7432.72669522,\n       12741.56954064,  7696.28232821, 15409.9547577 ,  6495.76330657,\n       10023.80222122, 14182.71022588, 13493.39666211,  8711.57259594,\n       11051.66927282, 10330.26663267, 13817.06152985, 18062.24927616,\n        5705.74373171, 11667.4647693 ,  8432.66607517, 16375.49322505,\n       14209.43573606, 17217.7614929 , 12436.2148869 , 10720.6988666 ,\n       14147.84696263,  8170.68246758,  8782.59393653,  8344.25930483,\n       17760.50118977, 20748.20481344, 16658.93109743, 10206.9040294 ,\n       12319.41817721, 16056.82197662, 12114.39958767, 19380.95214239,\n       10112.30147828, 12240.72135125, 11587.2883217 ,  8560.65235086,\n       17053.06238544,  9782.34834304, 16421.91591823,  8338.0634411 ,\n        6551.15621627, 14195.28692679,  8836.04487395, 11296.26736772,\n       18718.91892618,  8842.51819785,  5207.02248804,  9476.80871585,\n       12929.11021372, 10279.40499163,  7204.68173253, 12399.68702857,\n       19171.8647178 , 10190.44346688, 12961.56915403, 14419.17048475,\n       19803.47345271, 20688.65049902, 12976.08782723, 18970.17531841,\n       12695.33173794, 14951.18304922, 14645.9208822 , 14343.89533566,\n       10592.71250795, 14148.67926017, 10923.03567304,  5564.16348412,\n       15591.76191769, 12764.13356314, 17933.15324276, 16886.97606012,\n        8463.27544697,  9554.85821773, 16225.96003193, 13545.92281526,\n        8145.43666199,  9137.79296033, 13047.66392224, 18658.16236732,\n       10672.24163146, 11011.71982059, 19111.20064567, 18720.49095157,\n       17332.3388531 ,  9036.16224794,  9374.99303002,  9783.2731273 ,\n       11191.03008796,  8397.15540487, 17701.31673928, 15577.24324449,\n       13820.76050097, 12607.10994105, 17466.79845269,  5428.96407371,\n        8929.63023704, 17656.65096198, 12033.48341222, 13194.2378721 ,\n       12673.22998314, 10066.71099968, 11862.68084479, 15419.1098647 ,\n        8944.51885713,  7374.65200243,  9043.09783954, 11862.68084479,\n       19468.71150568, 19025.56822811, 13080.40032272, 10978.5209865 ,\n       15944.5565356 , 11122.04328933,  7130.97860884, 16999.51896131,\n       18911.17584135, 13793.66512686,  9580.75134742, 10332.76344233,\n       12166.46339018, 13566.6373522 , 18445.74583554, 16105.46426816,\n       14332.05844556, 11338.25136191, 18386.56138504, 10913.60310587,\n       18220.38265595, 17942.30834976, 10440.1276678 , 17936.85221389,\n        8534.85162494,  5769.64442431, 15265.2302934 , 16722.18438299,\n       18168.96617754, 19609.27456524, 18174.97706784,  9466.45153034,\n       11689.10400754,  9834.87449619, 16204.50560122, 12628.00945143,\n       11385.22897543,  7230.94480911, 14642.96163894])"
     },
     "execution_count": 10,
     "metadata": {},
     "output_type": "execute_result"
    }
   ],
   "source": [
    "Y_pred = model.predict(X_test)\n",
    "Y_pred"
   ],
   "metadata": {
    "collapsed": false
   }
  },
  {
   "cell_type": "markdown",
   "source": [
    "**Accuracy model**"
   ],
   "metadata": {
    "collapsed": false
   }
  },
  {
   "cell_type": "code",
   "execution_count": 11,
   "outputs": [],
   "source": [
    "from sklearn.metrics import mean_absolute_error, mean_absolute_percentage_error"
   ],
   "metadata": {
    "collapsed": false
   }
  },
  {
   "cell_type": "code",
   "execution_count": 13,
   "outputs": [
    {
     "data": {
      "text/plain": "1.0838785362495418"
     },
     "execution_count": 13,
     "metadata": {},
     "output_type": "execute_result"
    }
   ],
   "source": [
    "mean_absolute_percentage_error(Y_test, Y_pred)"
   ],
   "metadata": {
    "collapsed": false
   }
  },
  {
   "cell_type": "code",
   "execution_count": null,
   "outputs": [],
   "source": [],
   "metadata": {
    "collapsed": false
   }
  }
 ],
 "metadata": {
  "kernelspec": {
   "display_name": "Python 3",
   "language": "python",
   "name": "python3"
  },
  "language_info": {
   "codemirror_mode": {
    "name": "ipython",
    "version": 2
   },
   "file_extension": ".py",
   "mimetype": "text/x-python",
   "name": "python",
   "nbconvert_exporter": "python",
   "pygments_lexer": "ipython2",
   "version": "2.7.6"
  }
 },
 "nbformat": 4,
 "nbformat_minor": 0
}
